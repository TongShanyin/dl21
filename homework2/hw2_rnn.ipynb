{
  "nbformat": 4,
  "nbformat_minor": 0,
  "metadata": {
    "colab": {
      "name": "hw2_rnn",
      "provenance": [],
      "collapsed_sections": []
    },
    "kernelspec": {
      "name": "python3",
      "display_name": "Python 3"
    },
    "accelerator": "GPU"
  },
  "cells": [
    {
      "cell_type": "markdown",
      "metadata": {
        "id": "PtcBjMq7YV3f"
      },
      "source": [
        "# Homework 2 - Recurrent Neural Networks"
      ]
    },
    {
      "cell_type": "markdown",
      "metadata": {
        "id": "Rn-cOk1iZTtR"
      },
      "source": [
        "In this part of the homework we are going to work with Recurrent Neural Networks, in particular GRU. One of the greatest things that Recurrent Neural Networks can do when working with sequences is retaining data from several timesteps in the past. We are going to explore that property by constructing an 'echo' Recurrent Neural Network.\n",
        "\n",
        "The goal here is to make a model that given a sequence of letters or digits will output that same sequence, but with a certain delay. Let's say the input is a string 'abacaba', we want the model to not output anything for 3 steps (delay length), and then output the original string step by step, except the last 3 characters. So, target output is then 'XXXabac', where 'X' is empty output.\n",
        "\n",
        "This is similar to [this notebook](https://github.com/Atcold/pytorch-Deep-Learning/blob/master/09-echo_data.ipynb) (which you should refer to when doing this assignment), except we're working not with a binary string, but with a sequence of integers between 0 and some N. In our case N is 26, which is the number of letters in the alphabet."
      ]
    },
    {
      "cell_type": "markdown",
      "metadata": {
        "id": "npLlE973as6x"
      },
      "source": [
        "## Dataset\n",
        "\n",
        "Let's implement the dataset. In our case, the data is basically infinite, as we can always generate more examples on the fly, so don't need to load anything from disk."
      ]
    },
    {
      "cell_type": "code",
      "metadata": {
        "id": "mkEEMyvzIMRx"
      },
      "source": [
        "import random\n",
        "import string\n",
        "\n",
        "import torch\n",
        "\n",
        "# Max value of the generated integer. 26 is chosen becuase it's\n",
        "# the number of letters in English alphabet.\n",
        "N = 26\n",
        "\n",
        "\n",
        "def idx_to_onehot(x, k=N+1):\n",
        "  \"\"\" Converts the generated integers to one-hot vectors \"\"\"\n",
        "  ones = torch.sparse.torch.eye(k)\n",
        "  shape = x.shape\n",
        "  res = ones.index_select(0, x.view(-1).type(torch.int64))\n",
        "  return res.view(*shape, res.shape[-1])\n",
        "\n",
        "\n",
        "class EchoDataset(torch.utils.data.IterableDataset):\n",
        "\n",
        "  def __init__(self, delay=4, seq_length=15, size=1000):\n",
        "    self.delay = delay\n",
        "    self.seq_length = seq_length\n",
        "    self.size = size\n",
        "  \n",
        "  def __len__(self):\n",
        "    return self.size\n",
        "\n",
        "  def __iter__(self):\n",
        "    \"\"\" Iterable dataset doesn't have to implement __getitem__.\n",
        "        Instead, we only need to implement __iter__ to return\n",
        "        an iterator (or generator).\n",
        "    \"\"\"\n",
        "    for _ in range(self.size):\n",
        "      seq = torch.tensor([random.choice(range(1, N + 1)) for i in range(self.seq_length)], dtype=torch.int64)\n",
        "      result = torch.cat((torch.zeros(self.delay), seq[:self.seq_length - self.delay])).type(torch.int64)\n",
        "      yield seq, result\n",
        "\n",
        "DELAY = 4\n",
        "DATASET_SIZE = 200000\n",
        "ds = EchoDataset(delay=DELAY, size=DATASET_SIZE)"
      ],
      "execution_count": 1,
      "outputs": []
    },
    {
      "cell_type": "markdown",
      "metadata": {
        "id": "nNrZqYURcKSl"
      },
      "source": [
        "## Model\n",
        "\n",
        "Now, we want to implement the model. For our purposes, we want to use GRU. The architecture consists of GRU and a decoder. Decoder is responsible for decoding the GRU hidden state to yield a predicting for the next output. The parts you are responsible for filling with your code are marked with `TODO`. "
      ]
    },
    {
      "cell_type": "code",
      "metadata": {
        "id": "nigN_o4Mb9Nx"
      },
      "source": [
        "class GRUMemory(torch.nn.Module):\n",
        "\n",
        "  def __init__(self, hidden_size, N):\n",
        "    super().__init__()\n",
        "    #TODO: initialize your submodules\n",
        "    self.hidden_size = hidden_size\n",
        "    self.gru = torch.nn.GRU(\n",
        "            input_size=N+1,\n",
        "            hidden_size=hidden_size,\n",
        "            num_layers=1,\n",
        "            batch_first=True\n",
        "        )\n",
        "    self.fc = torch.nn.Linear(hidden_size, N+1)\n",
        "    self.softmax = torch.nn.Softmax(dim=2)\n",
        "\n",
        "\n",
        "  def forward(self, x):\n",
        "    # inputs: x - input tensor of shape (batch_size, seq_length, N+1)\n",
        "    # returns:\n",
        "    # logits (scores for softmax) of shape (batch size, seq_length, N + 1)\n",
        "    # TODO implement forward pass\n",
        "    x, h = self.gru(x)\n",
        "    x = self.fc(x)\n",
        "    x = self.softmax(x)\n",
        "    return x\n",
        "\n",
        "  @torch.no_grad()\n",
        "  def test_run(self, s):\n",
        "    # This function accepts one string s containing lowercase characters a-z. \n",
        "    # You need to map those characters to one-hot encodings, \n",
        "    # then get the result from your network, and then convert the output \n",
        "    # back to a string of the same length, with 0 mapped to ' ', \n",
        "    # and 1-26 mapped to a-z.\n",
        "    x = idx_to_onehot(torch.tensor(list(ord(c)-96 for c in s)).view(1,-1))\n",
        "    x = x.to(device)\n",
        "    x = self.forward(x)\n",
        "    x = x[0].max(1, keepdim=True)[1].view(-1)\n",
        "    ss = ''\n",
        "    for n in x:\n",
        "      n = n.item()\n",
        "      if n==0:\n",
        "        ss += ' '\n",
        "      else:\n",
        "        ss += chr(n+96)\n",
        "    return ss"
      ],
      "execution_count": 2,
      "outputs": []
    },
    {
      "cell_type": "markdown",
      "metadata": {
        "id": "A9whwmVu9OIx"
      },
      "source": [
        "## Training\n",
        "Below you need to implement the training of the model. We give you more freedom as for the implementation. The two limitations are that it has to execute within 10 minutes, and that error rate should be below 1%."
      ]
    },
    {
      "cell_type": "code",
      "metadata": {
        "id": "lUZkeRnVTNzG"
      },
      "source": [
        "def test_model(model, sequence_length=15, D=4):\n",
        "  \"\"\"\n",
        "  This is the test function that runs 100 different strings through your model,\n",
        "  and checks the error rate.\n",
        "  \"\"\"\n",
        "  total = 0\n",
        "  correct = 0\n",
        "  for i in range(500):\n",
        "    s = ''.join([random.choice(string.ascii_lowercase) for i in range(random.randint(15, 25))])\n",
        "    result = model.test_run(s)\n",
        "    assert D > 0, 's[:-D] won\\'t work for D=0'\n",
        "    for c1, c2 in zip(s[:-D], result[D:]):\n",
        "      correct += int(c1 == c2)\n",
        "    total += len(s) - D\n",
        "\n",
        "  return correct / total"
      ],
      "execution_count": 3,
      "outputs": []
    },
    {
      "cell_type": "code",
      "metadata": {
        "id": "ZSRzxT4dqDPN"
      },
      "source": [
        "BATCH_SIZE = 5\n",
        "ds_load= torch.utils.data.DataLoader(ds, batch_size= BATCH_SIZE)"
      ],
      "execution_count": 4,
      "outputs": []
    },
    {
      "cell_type": "code",
      "metadata": {
        "id": "9lV9BscxCCAI",
        "colab": {
          "base_uri": "https://localhost:8080/"
        },
        "outputId": "b02d7bab-ae8a-4a43-d356-d33a74339545"
      },
      "source": [
        "import time\n",
        "\n",
        "start_time = time.time()\n",
        "\n",
        "# TODO: initialize and train your model here.\n",
        "device = torch.device(\"cuda:0\" if torch.cuda.is_available() else \"cpu\")\n",
        "hidden_size = 50\n",
        "model = GRUMemory(hidden_size, N).to(device)\n",
        "        \n",
        "criterion = torch.nn.BCEWithLogitsLoss()\n",
        "optimizer = torch.optim.RMSprop(model.parameters(), lr=0.001)\n",
        "\n",
        "\n",
        "n_epochs = 5\n",
        "epoch = 0\n",
        "num_batch = 10000\n",
        "\n",
        "while epoch < n_epochs:\n",
        "    model.train()\n",
        "    batch = 0\n",
        "    total_loss = 0\n",
        "    for seq, result in ds_load:\n",
        "      data, target = idx_to_onehot(seq).to(device), idx_to_onehot(result).to(device)\n",
        "      optimizer.zero_grad()\n",
        "      logits = model(data)\n",
        "      loss = criterion(logits, target)\n",
        "      total_loss += loss.item()\n",
        "      loss.backward()\n",
        "      optimizer.step()\n",
        "      batch += 1\n",
        "      if batch >= num_batch:\n",
        "        break\n",
        "    # print(total_loss/num_batch/BATCH_SIZE)\n",
        "    epoch += 1\n",
        "\n",
        "end_time = time.time()\n",
        "duration = end_time - start_time\n",
        "accuracy = test_model(model,DELAY)\n",
        "assert duration < 600, 'execution took f{duration:.2f} seconds, which longer than 10 mins'\n",
        "assert accuracy > 0.99, f'accuracy is too low, got {accuracy}, need 0.99'\n",
        "print('tests passed')"
      ],
      "execution_count": 5,
      "outputs": [
        {
          "output_type": "stream",
          "text": [
            "tests passed\n"
          ],
          "name": "stdout"
        }
      ]
    },
    {
      "cell_type": "markdown",
      "metadata": {
        "id": "sB0EVNBtDhpN"
      },
      "source": [
        "## Variable delay model\n",
        "\n",
        "Now, to make this more complicated, we want to have varialbe delay. So, now, the goal is to transform a sequence of pairs (character, delay) into a character sequence with given delay. Delay stays constant within one sequence."
      ]
    },
    {
      "cell_type": "markdown",
      "metadata": {
        "id": "3i_iwX_AEOCH"
      },
      "source": [
        "### Dataset\n",
        "As before, we first implement the dataset:"
      ]
    },
    {
      "cell_type": "code",
      "metadata": {
        "id": "E4G5b8kuEUEd"
      },
      "source": [
        "class VariableDelayEchoDataset(torch.utils.data.IterableDataset):\n",
        "\n",
        "  def __init__(self, max_delay=8, seq_length=20, size=1000):\n",
        "    self.max_delay = max_delay\n",
        "    self.seq_length = seq_length\n",
        "    self.size = size\n",
        "  \n",
        "  def __len__(self):\n",
        "    return self.size\n",
        "\n",
        "  def __iter__(self):\n",
        "    for _ in range(self.size):\n",
        "      seq = torch.tensor([random.choice(range(1, N + 1)) for i in range(self.seq_length)], dtype=torch.int64)\n",
        "      delay = random.randint(0, self.max_delay)\n",
        "      result = torch.cat((torch.zeros(delay), seq[:self.seq_length - delay])).type(torch.int64)\n",
        "      yield seq, delay, result\n",
        "\n",
        "MAX_DELAY = 8\n",
        "SEQ_LENGTH = 20\n",
        "\n",
        "ds_delay = VariableDelayEchoDataset(max_delay=MAX_DELAY, seq_length=SEQ_LENGTH, size = DATASET_SIZE)"
      ],
      "execution_count": 6,
      "outputs": []
    },
    {
      "cell_type": "markdown",
      "metadata": {
        "id": "oTRVOND3HEJZ"
      },
      "source": [
        "### Model\n",
        "\n",
        "And the model."
      ]
    },
    {
      "cell_type": "code",
      "metadata": {
        "id": "h8TnLpX_VqmF"
      },
      "source": [
        "class VariableDelayGRUMemory(torch.nn.Module):\n",
        "\n",
        "  def __init__(self, hidden_size, max_delay,N):\n",
        "    super().__init__()\n",
        "    self.hidden_size = hidden_size\n",
        "    self.max_delay = max_delay\n",
        "    self.hidden_size = hidden_size\n",
        "    self.gru = torch.nn.GRU(\n",
        "            input_size=N+1+self.max_delay+1,\n",
        "            hidden_size=hidden_size,\n",
        "            num_layers=1,\n",
        "            batch_first=True\n",
        "        )\n",
        "    self.fc = torch.nn.Linear(hidden_size, N+1)\n",
        "    self.softmax = torch.nn.Softmax(dim=2)\n",
        "\n",
        "\n",
        "  def forward(self, x, delays):\n",
        "    # inputs:\n",
        "    # x - tensor of shape (batch size, seq length, N + 1)\n",
        "    # delays - tensor of shape (batch size)\n",
        "    # returns:\n",
        "    # logits (scores for softmax) of shape (batch size, seq_length, N + 1)\n",
        "    delays = self.idx_to_onehot(delays.view(-1,1),self.max_delay+1).to(device)\n",
        "    delays = delays.repeat(1,x.size(1),1)\n",
        "    x= torch.cat((x,delays), dim=2)\n",
        "    x, h = self.gru(x)\n",
        "    x = self.fc(x)\n",
        "    x = self.softmax(x)\n",
        "    return x\n",
        "\n",
        "  def idx_to_onehot(self, x, k):\n",
        "    ones = torch.sparse.torch.eye(k).to(device)\n",
        "    shape = x.shape\n",
        "    res = ones.index_select(0, x.view(-1).type(torch.int64)).to(device)\n",
        "    return res.view(*shape, res.shape[-1]).to(device)\n",
        "\n",
        "\n",
        "  @torch.no_grad()\n",
        "  def test_run(self, s, delay):\n",
        "    # This function accepts one string s containing lowercase characters a-z, \n",
        "    # and a delay - the desired output delay.\n",
        "    # You need to map those characters to one-hot encodings, \n",
        "    # then get the result from your network, and then convert the output \n",
        "    # back to a string of the same length, with 0 mapped to ' ', \n",
        "    # and 1-26 mapped to a-z.\n",
        "    x = idx_to_onehot(torch.tensor(list(ord(c)-96 for c in s)).view(1,-1))\n",
        "    x = x.to(device)\n",
        "    delay = torch.tensor([delay]).to(device)\n",
        "    x = self.forward(x, delay)\n",
        "    x = x[0].max(1, keepdim=True)[1].view(-1)\n",
        "    ss = ''\n",
        "    for n in x:\n",
        "      n = n.item()\n",
        "      if n==0:\n",
        "        ss += ' '\n",
        "      else:\n",
        "        ss += chr(n+96)\n",
        "    return ss\n"
      ],
      "execution_count": 7,
      "outputs": []
    },
    {
      "cell_type": "markdown",
      "metadata": {
        "id": "riu3qHWgKjsx"
      },
      "source": [
        "### Train\n",
        "\n",
        "As before, you're free to do what you want, as long as training finishes within 10 minutes and accuracy is above 0.99 for delays between 0 and 8."
      ]
    },
    {
      "cell_type": "code",
      "metadata": {
        "id": "4FZHojnGO3aw"
      },
      "source": [
        "def test_variable_delay_model(model, seq_length=20):\n",
        "  \"\"\"\n",
        "  This is the test function that runs 100 different strings through your model,\n",
        "  and checks the error rate.\n",
        "  \"\"\"\n",
        "  total = 0\n",
        "  correct = 0\n",
        "  for i in range(500):\n",
        "    s = ''.join([random.choice(string.ascii_lowercase) for i in range(seq_length)])\n",
        "    d = random.randint(0, model.max_delay)\n",
        "    result = model.test_run(s, d)\n",
        "    if d > 0:\n",
        "      z = zip(s[:-d], result[d:])\n",
        "    else:\n",
        "      z = zip(s, result)\n",
        "    for c1, c2 in z:\n",
        "      correct += int(c1 == c2)\n",
        "    total += len(s) - d\n",
        "\n",
        "  return correct / total"
      ],
      "execution_count": 8,
      "outputs": []
    },
    {
      "cell_type": "code",
      "metadata": {
        "id": "YJ18Ef6vKi4s",
        "colab": {
          "base_uri": "https://localhost:8080/"
        },
        "outputId": "f0da0310-6aea-42fc-b3f3-65a080d1b9d3"
      },
      "source": [
        "import time\n",
        "\n",
        "BATCH_SIZE = 10\n",
        "delay_load= torch.utils.data.DataLoader(ds_delay, batch_size= BATCH_SIZE)\n",
        "\n",
        "start_time = time.time()\n",
        "device = torch.device(\"cuda:0\" if torch.cuda.is_available() else \"cpu\")\n",
        "hidden_size = 100\n",
        "model_delay = VariableDelayGRUMemory(hidden_size,MAX_DELAY, N).to(device)\n",
        "        \n",
        "criterion = torch.nn.BCEWithLogitsLoss()\n",
        "optimizer = torch.optim.RMSprop(model_delay.parameters(), lr=0.001)\n",
        "\n",
        "\n",
        "n_epochs = 5\n",
        "epoch = 0\n",
        "num_batch = 20000\n",
        "\n",
        "while epoch < n_epochs:\n",
        "    model_delay.train()\n",
        "    batch = 0\n",
        "    total_loss = 0\n",
        "    for seq, delay, result in delay_load:\n",
        "      data, target = idx_to_onehot(seq).to(device), idx_to_onehot(result).to(device)\n",
        "      delay = delay.to(device)\n",
        "      optimizer.zero_grad()\n",
        "      logits = model_delay(data, delay)\n",
        "      loss = criterion(logits, target)\n",
        "      total_loss += loss.item()\n",
        "      loss.backward()\n",
        "      optimizer.step()\n",
        "      batch += 1\n",
        "      if batch >= num_batch:\n",
        "        break\n",
        "    # print(total_loss/num_batch/BATCH_SIZE)\n",
        "    epoch += 1\n",
        "\n",
        "\n",
        "end_time = time.time()\n",
        "accuracy = test_variable_delay_model(model_delay)\n",
        "assert end_time - start_time < 600, 'executing took longer than 10 mins'\n",
        "assert accuracy > 0.99, 'accuracy is too low'\n",
        "print('tests passed')"
      ],
      "execution_count": 9,
      "outputs": [
        {
          "output_type": "stream",
          "text": [
            "tests passed\n"
          ],
          "name": "stdout"
        }
      ]
    }
  ]
}